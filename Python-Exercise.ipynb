{
 "cells": [
  {
   "cell_type": "markdown",
   "id": "b00d4e67",
   "metadata": {},
   "source": [
    "## Check whether the number is Even or Odd."
   ]
  },
  {
   "cell_type": "code",
   "execution_count": null,
   "id": "6bbb3cda",
   "metadata": {},
   "outputs": [],
   "source": [
    "def even_odd():\n",
    "    x=int(input(\"enter a number to check: \"))\n",
    "    if x%2==1:\n",
    "        print(\"entered number is odd number\")\n",
    "    else:\n",
    "        print(\"entered number is even number\")\n",
    "even_odd()"
   ]
  },
  {
   "cell_type": "markdown",
   "id": "aa8d59f3",
   "metadata": {},
   "source": [
    "## Write a program to convert degree fahrenheit to celsius."
   ]
  },
  {
   "cell_type": "code",
   "execution_count": null,
   "id": "370bf47f",
   "metadata": {},
   "outputs": [],
   "source": [
    "def c_f():\n",
    "    x=int(input(\"Enter temperature in °F: \"))\n",
    "    x=(x-32)*5/9\n",
    "    print(\"Temperature in °C: \",round(x))\n",
    "c_f()"
   ]
  },
  {
   "cell_type": "markdown",
   "id": "ca799c83",
   "metadata": {},
   "source": [
    "## Write a function to print area of Circle, Rectangle, Square, Triangle."
   ]
  },
  {
   "cell_type": "code",
   "execution_count": null,
   "id": "250477cd",
   "metadata": {},
   "outputs": [],
   "source": [
    "#Area of Circle\n",
    "def circle(r):\n",
    "    return 3.14*r*r\n",
    "a=float(input(\"Enter the Radius: \"))\n",
    "print(\"Area of Circle: \",circle(a))\n",
    "\n",
    "#Area of Rectangle\n",
    "def rec(l,b):\n",
    "    return l*b   \n",
    "a=float(input(\"Enter the Length: \"))\n",
    "b=float(input(\"Enter the Breadth: \"))\n",
    "print(\"Area of Rectangle: \",rec(a,b))\n",
    "\n",
    "#Area of Square\n",
    "def sq(s1):\n",
    "    return s1*s1\n",
    "a=float(input(\"Enter the Side of a Square: \"))\n",
    "print(\"Area of Square: \",sq(a))\n",
    "\n",
    "#Area of Triangle\n",
    "def tri(b,h):\n",
    "    return 0.5*b*h\n",
    "a=float(input(\"Enter the Base: \"))\n",
    "b=float(input(\"Enter the Height: \"))\n",
    "print(\"Area of Triangle: \",tri(a,b))"
   ]
  },
  {
   "cell_type": "markdown",
   "id": "a74d673f",
   "metadata": {},
   "source": [
    "# Program to check if a number is prime or not."
   ]
  },
  {
   "cell_type": "code",
   "execution_count": null,
   "id": "440f38db",
   "metadata": {},
   "outputs": [],
   "source": [
    "# To take input from the user\n",
    "num = int(input(\"Enter a number: \"))\n",
    "\n",
    "# define a flag variable\n",
    "flag = False\n",
    "\n",
    "# prime numbers are greater than 1\n",
    "if num > 1:\n",
    "    # check for factors\n",
    "    for i in range(2, num):\n",
    "        if (num % i) == 0:\n",
    "            # if factor is found, set flag to True\n",
    "            flag = True\n",
    "            # break out of loop\n",
    "            break\n",
    "# check if flag is True\n",
    "    if flag:\n",
    "        print(num, \"is a composite number\")\n",
    "    else:\n",
    "        print(num, \"is a prime number\")\n",
    "else:\n",
    "    print(\"1 is neither prime nor composite\")"
   ]
  },
  {
   "cell_type": "markdown",
   "id": "099e39ac",
   "metadata": {},
   "source": [
    "## A company decided to give bonus of 5% to employee if his/her year of service is more than 5 years. Ask user for their salary and year of service and print the net bonus amount."
   ]
  },
  {
   "cell_type": "code",
   "execution_count": null,
   "id": "2b275fdf",
   "metadata": {},
   "outputs": [],
   "source": [
    "s=float(input(\"Enter the Salary in $: \"))\n",
    "y=int(input(\"Enter number of years completed: \"))\n",
    "if y>5:\n",
    "    b=5/100*s\n",
    "    print(\"The bonus amount in $: \",b)\n",
    "else:\n",
    "    print(\"Minimum requirement of service is not matching\")"
   ]
  },
  {
   "cell_type": "markdown",
   "id": "4fc4b7b7",
   "metadata": {},
   "source": [
    "## A shop will give discount of 10% if the cost of purchased quantity is more than 1000. Ask user for quantity Suppose, one unit will cost 100. Judge and print total cost for user."
   ]
  },
  {
   "cell_type": "code",
   "execution_count": null,
   "id": "5ea348a4",
   "metadata": {},
   "outputs": [],
   "source": [
    "quant=int(input(\"Total no. of quantity: \"))\n",
    "cost=float(input(\"cost per quantity $: \"))\n",
    "t=quant*cost\n",
    "if t>1000:\n",
    "    d=10/100*t\n",
    "    p=t-d\n",
    "    print(\"The discounted cost in $: \",p)\n",
    "else:\n",
    "    print(\"Can't get discount, beacause minimum cost of quantity is not more than 1000$\")"
   ]
  },
  {
   "cell_type": "markdown",
   "id": "672e91b7",
   "metadata": {},
   "source": [
    "## A school has following rules for grading system:\n",
    "### a. Below 25 - F\n",
    "### b. 25 to 45 - E\n",
    "### c. 45 to 50 - D\n",
    "### d. 50 to 60 - C\n",
    "### e. 60 to 80 - B\n",
    "### f. Above 80 - A\n",
    "## Ask user to enter marks and print the corresponding grade."
   ]
  },
  {
   "cell_type": "code",
   "execution_count": null,
   "id": "a05788a4",
   "metadata": {},
   "outputs": [],
   "source": [
    "m=float(input(\"Enter marks: \"))\n",
    "if m<0:\n",
    "    print(\"invalid marks\") \n",
    "elif m<25:\n",
    "    print(\"The grade will be: F\")\n",
    "elif 25<=m<=45:\n",
    "    print(\"The grade will be: E\")\n",
    "elif 45<m<=50: \n",
    "    print(\"The grade will be: D\")\n",
    "elif 50<m<=60: \n",
    "    print(\"The grade will be: C\")\n",
    "elif 60<m<=80: \n",
    "    print(\"The grade will be: B\")\n",
    "elif 80<m<=100:\n",
    "    print(\"The grade will be: A\")\n",
    "elif m>100:\n",
    "    print(\"invalid marks\")"
   ]
  },
  {
   "cell_type": "markdown",
   "id": "150397ee",
   "metadata": {},
   "source": [
    "## A student will not be allowed to sit in exam if his/her attendence is less than 75%.\n",
    "## Take following input from user:\n",
    "### Number of classes held\n",
    "### Number of classes attended.\n",
    "### And print\n",
    "### percentage of class attended\n",
    "### Is student is allowed to sit in exam or not."
   ]
  },
  {
   "cell_type": "code",
   "execution_count": null,
   "id": "ce016357",
   "metadata": {},
   "outputs": [],
   "source": [
    "flag=False\n",
    "ch=int(input(\"Number of classes held: \"))\n",
    "ca=int(input(\"Number of classes attended: \"))\n",
    "if ch<ca:\n",
    "    flag=True\n",
    "if flag:\n",
    "    print(\"Invalid Number of classes attended\")\n",
    "else:\n",
    "    p=ca/ch*100\n",
    "    print(\"percentage of class attended: \",p)\n",
    "    if p<75:\n",
    "        mr=input(\"Do you have a medical reason? Y/N: \")\n",
    "    if p>75 or mr==\"y\" or mr==\"Y\":\n",
    "        print(\"Student is allowed to give exam\")\n",
    "    else:\n",
    "        print(\"Student is not allowed to give exam\")"
   ]
  },
  {
   "cell_type": "markdown",
   "id": "3af92a3a",
   "metadata": {},
   "source": [
    "## Ask user to enter age, sex ( M or F ), marital status ( Y or N ) and then using following rules print their place of service.\n",
    "### If employee is female, then she will work only in urban areas.\n",
    "\n",
    "### If employee is a male and age is in between 20 to 40 then he may work in anywhere.\n",
    "\n",
    "### If employee is male and age is in between 40 t0 60 then he will work in urban areas only.\n",
    "\n",
    "### And any other input of age should print \"ERROR\".\n"
   ]
  },
  {
   "cell_type": "code",
   "execution_count": null,
   "id": "b50e672a",
   "metadata": {},
   "outputs": [],
   "source": [
    "a=int(input(\"Enter employee age: \"))\n",
    "if a<20 or a>60:\n",
    "    print(\"ERROR\")\n",
    "else:\n",
    "    s=input(\"Enter your sex M or F: \")\n",
    "    ms=input(\"Enter your Marital Status Y or N: \")\n",
    "    if s=='F' or 'f':\n",
    "        print(\"You will work only in urban areas\")\n",
    "    elif s=='M'or 'm'  and 20<=a<=40:\n",
    "        print(\"You may work anywhere\")\n",
    "    elif s=='M' or 'm' and 40<a<=60:\n",
    "        print(\"You will work in urban areas\")"
   ]
  },
  {
   "cell_type": "markdown",
   "id": "da7ac28a",
   "metadata": {},
   "source": [
    "## A 4 digit number is entered through keyboard. Write a program to print a new number with digits reversed as of orignal one. E.g.-\n",
    "### INPUT : 1234        OUTPUT : 4321\n",
    "### INPUT : 5982        OUTPUT : 2895"
   ]
  },
  {
   "cell_type": "code",
   "execution_count": null,
   "id": "10a5086e",
   "metadata": {},
   "outputs": [],
   "source": [
    "num=input(\"enter a number: \")\n",
    "len(num)\n",
    "num_int=int(num)\n",
    "rev_num=0\n",
    "for i in range(1,len(num)+1):\n",
    "    fd=num_int%10\n",
    "    rev_num=rev_num*10+fd\n",
    "    num_int //=10\n",
    "print(\"The reverse of a number is: \",rev_num)"
   ]
  },
  {
   "cell_type": "markdown",
   "id": "3b4278b5",
   "metadata": {},
   "source": [
    "## Print Fibonacci Series"
   ]
  },
  {
   "cell_type": "code",
   "execution_count": null,
   "id": "488a6170",
   "metadata": {},
   "outputs": [],
   "source": [
    "n=int(input(\"Enter the number of elements: \"))\n",
    "a=0\n",
    "b=1\n",
    "print(a, end=\" \")\n",
    "print(b, end=\" \")\n",
    "for i in range(n-2):\n",
    "    c=a+b\n",
    "    print(c, end=\" \")\n",
    "    a=b\n",
    "    b=c"
   ]
  },
  {
   "cell_type": "markdown",
   "id": "9ffb6942",
   "metadata": {},
   "source": [
    "## Write a Python function to find the Max of three numbers."
   ]
  },
  {
   "cell_type": "code",
   "execution_count": null,
   "id": "00e0b034",
   "metadata": {},
   "outputs": [],
   "source": [
    "def max():\n",
    "    num1=float(input(\"Enter the first number: \"))\n",
    "    num2=float(input(\"Enter the second number: \"))\n",
    "    num3=float(input(\"Enter the third number: \"))\n",
    "    if(num1>num2 and num1>num3):\n",
    "        print(\"Maximum number is: \",num1)\n",
    "    elif(num2>num1 and num2>num3):\n",
    "        print(\"Maximum number is: \",num2)\n",
    "    elif(num3>num1 and num3>num1):\n",
    "        print(\"Maximum number is: \",num3)\n",
    "max()"
   ]
  },
  {
   "cell_type": "markdown",
   "id": "97b3df24",
   "metadata": {},
   "source": [
    "## Print sum of all even numbers from 10 to 20"
   ]
  },
  {
   "cell_type": "code",
   "execution_count": null,
   "id": "0c446f56",
   "metadata": {},
   "outputs": [],
   "source": [
    "sum=0\n",
    "for i in range(10,21):\n",
    "    if(i%2==0):\n",
    "        temp=i\n",
    "        sum=sum+temp\n",
    "print(sum) "
   ]
  },
  {
   "cell_type": "markdown",
   "id": "a8a89974",
   "metadata": {},
   "source": [
    "## Calculate the square of each number of list (self defined)."
   ]
  },
  {
   "cell_type": "code",
   "execution_count": null,
   "id": "54c76c3d",
   "metadata": {},
   "outputs": [],
   "source": [
    "list=[1,2,3,4,5]\n",
    "for i in list:\n",
    "    sq=i*i\n",
    "    print(\"The square of\",i,\"is: \",sq)"
   ]
  },
  {
   "cell_type": "markdown",
   "id": "e10cc41b",
   "metadata": {},
   "source": [
    "## Calculate the average of list of numbers"
   ]
  },
  {
   "cell_type": "code",
   "execution_count": null,
   "id": "ed33ef04",
   "metadata": {},
   "outputs": [],
   "source": [
    "list=[1,2,3,4,5]\n",
    "sum=0\n",
    "for i in list:\n",
    "    temp=i\n",
    "    sum=sum+temp\n",
    "avg=sum/len(list)\n",
    "print(\"The avg of the list is: \",avg)"
   ]
  },
  {
   "cell_type": "markdown",
   "id": "d3dc6c83",
   "metadata": {},
   "source": [
    "## Print all even and odd numbers between 10 and 20 exclusive:"
   ]
  },
  {
   "cell_type": "code",
   "execution_count": null,
   "id": "fec05dfe",
   "metadata": {},
   "outputs": [],
   "source": [
    "even_list=[]\n",
    "odd_list=[]\n",
    "for i in range(11,20):\n",
    "    if(i%2==0):\n",
    "        even_list.append(i)\n",
    "    else:\n",
    "        odd_list.append(i)\n",
    "print(\"Even list: \",even_list)\n",
    "print(\"Odd list: \",odd_list)"
   ]
  },
  {
   "cell_type": "markdown",
   "id": "05abbbd0",
   "metadata": {},
   "source": [
    "## Example: break the loop if number a number is greater than 15\n",
    "## In this program, for loop iterates over each number from a list.\n",
    "## Next, the if statement checks if the current is greater than 15. If yes, then break the loop else print the current number"
   ]
  },
  {
   "cell_type": "code",
   "execution_count": null,
   "id": "aa6b3356",
   "metadata": {},
   "outputs": [],
   "source": [
    "list=[1,2,5,20,12,13,14]\n",
    "for i in list:\n",
    "    if(i>15):\n",
    "        break\n",
    "    else:\n",
    "        print(i)"
   ]
  },
  {
   "cell_type": "markdown",
   "id": "7a40ea46",
   "metadata": {},
   "source": [
    "## Write a Python function to calculate the factorial of a number (a non-negative integer). The function accepts the number as an argument. \n"
   ]
  },
  {
   "cell_type": "code",
   "execution_count": null,
   "id": "0b879092",
   "metadata": {},
   "outputs": [],
   "source": [
    "def fac():\n",
    "    a=int(input(\"Enter a non-negative integer: \"))\n",
    "    facto=1\n",
    "    for i in range(1,a+1):\n",
    "        facto=facto*i\n",
    "    print(\"The factorical of a number is: \",facto)\n",
    "fac()"
   ]
  },
  {
   "cell_type": "markdown",
   "id": "1238a991",
   "metadata": {},
   "source": [
    "## Write a program to print the cube of all numbers from 1 to a given number\n",
    "\n"
   ]
  },
  {
   "cell_type": "code",
   "execution_count": null,
   "id": "57ee4ed7",
   "metadata": {},
   "outputs": [],
   "source": [
    "a=int(input(\"enter a no: \"))\n",
    "for i in range(1,a+1):\n",
    "    print(i**3)"
   ]
  },
  {
   "cell_type": "markdown",
   "id": "a888d425",
   "metadata": {},
   "source": [
    "## Find the sum of the series upto n terms.\n",
    "### Write a program to calculate the sum of series up to n term. For example, if n = 5 the series will become 2 + 22 + 222 + 2222 + 22222 = 24690"
   ]
  },
  {
   "cell_type": "code",
   "execution_count": null,
   "id": "08f8e519",
   "metadata": {},
   "outputs": [],
   "source": [
    "temp=[]\n",
    "n=int(input(\"enter a no: \"))\n",
    "for i in range(0,n):\n",
    "    sum=0\n",
    "    for j in range(i,-1,-1):\n",
    "        a=2*10**j\n",
    "        sum=sum+a\n",
    "    temp.append(sum)\n",
    "print(temp)\n",
    "total=0\n",
    "for i in temp:\n",
    "    total=total+i\n",
    "print(\"The total is \",total)"
   ]
  },
  {
   "cell_type": "markdown",
   "id": "3b9f4b4f",
   "metadata": {},
   "source": [
    "## Print the following pattern:\n",
    "### 5 4 3 2 1 \n",
    "### 4 3 2 1 \n",
    "### 3 2 1 \n",
    "### 2 1 \n",
    "### 1\n"
   ]
  },
  {
   "cell_type": "code",
   "execution_count": null,
   "id": "fec5a564",
   "metadata": {},
   "outputs": [],
   "source": [
    "for i in range(5,0,-1):\n",
    "    for j in range(i,0,-1):\n",
    "        print(j, end=\" \")\n",
    "    print()"
   ]
  },
  {
   "cell_type": "markdown",
   "id": "82af2777",
   "metadata": {},
   "source": [
    "## Print the following pattern:\n",
    "### 1\n",
    "### 1 2\n",
    "### 1 2 3 \n",
    "### 1 2 3 4\n",
    "### 1 2 3 4 5"
   ]
  },
  {
   "cell_type": "code",
   "execution_count": null,
   "id": "9a94e676",
   "metadata": {},
   "outputs": [],
   "source": [
    "for i in range(1,6):\n",
    "    for j in range(1,i+1):\n",
    "        print(j, end=\" \")\n",
    "    print()"
   ]
  },
  {
   "cell_type": "markdown",
   "id": "ee344b1b",
   "metadata": {},
   "source": [
    "## print the below pattern:\n",
    "### * \n",
    "### * * \n",
    "### * * * \n",
    "### * * * * \n",
    "### * * * * * \n",
    "### * * * * \n",
    "### * * * \n",
    "### * * \n",
    "### *\n"
   ]
  },
  {
   "cell_type": "code",
   "execution_count": null,
   "id": "b36766ae",
   "metadata": {},
   "outputs": [],
   "source": [
    "for i in range(1,6):\n",
    "    for j in range(1,i+1):\n",
    "        print('*', end=\" \")\n",
    "    print()\n",
    "for i in range(4,0,-1):\n",
    "    for j in range(i):\n",
    "        print('*', end=\" \")\n",
    "    print()"
   ]
  },
  {
   "cell_type": "markdown",
   "id": "3c2ee0c7",
   "metadata": {},
   "source": [
    "## Write a program that asks the user to enter a point on a 2D plane (i.e. enter X & Y) n Compute the distance between that point and the origin of the plane (0,0) n If the distance is < 10, tell them they hit a bullseye. If the distance is >= 10, they missed!"
   ]
  },
  {
   "cell_type": "code",
   "execution_count": null,
   "id": "a6d69f3a",
   "metadata": {},
   "outputs": [],
   "source": [
    "x1=int(input(\"Enter the value for x1: \"))\n",
    "x2=int(input(\"Enter the value for x2: \"))\n",
    "y1=int(input(\"Enter the value for y1: \"))\n",
    "y2=int(input(\"Enter the value for y2: \"))\n",
    "X=x2-x1\n",
    "X=X**2\n",
    "Y=y2-y1\n",
    "Y=Y**2\n",
    "dist=(X+Y)**0.5\n",
    "print(round(dist))\n",
    "if(dist<10):\n",
    "    print(\"You had hit a bullseye\")\n",
    "elif(dist>=10):\n",
    "    print(\"You Missed the bullseye\")"
   ]
  },
  {
   "cell_type": "markdown",
   "id": "438fa2db",
   "metadata": {},
   "source": [
    "## Write a function that accepts a restaurant check and a tip % n Print out the tip that should be left on the table as well as the total bill n If the tip is less than 15% you should tell the user that they might want to leave a little more on the table "
   ]
  },
  {
   "cell_type": "code",
   "execution_count": null,
   "id": "dc25616d",
   "metadata": {},
   "outputs": [],
   "source": [
    "def tip():\n",
    "    chk=float(input(\"enter the total amount: \"))\n",
    "    tp=float(input(\"enter the tip percentage: \"))\n",
    "    if(tp<15):\n",
    "        print(\"Your tip is\", tp,\"% that is less than 15% of the total bill, Do you want to leave a little more tip?\")\n",
    "    elif(tp>15):\n",
    "        amount=(tp/100)*chk\n",
    "        print(\"The tip amount is\", amount)\n",
    "        total=amount+chk\n",
    "        print(\"The total bill is\", total)\n",
    "        print(\"Thank-You!, Visit again\")\n",
    "tip()"
   ]
  },
  {
   "cell_type": "markdown",
   "id": "a6ea6d47",
   "metadata": {},
   "source": [
    "### Given a two Python list. Write a program to iterate both lists simultaneously and display items from list1 in original order and items from list2 in reverse order."
   ]
  },
  {
   "cell_type": "code",
   "execution_count": null,
   "id": "0fa1096b",
   "metadata": {},
   "outputs": [],
   "source": [
    "list1=[]\n",
    "n=int(input(\"enter the no of elements: \"))\n",
    "for i in range(n):\n",
    "    ele=str(input(\"enter the numbers: \"))\n",
    "    list1.append(ele)\n",
    "\n",
    "list2=[]\n",
    "for j in range(n):\n",
    "    elem=str(input(\"enter the numbers: \"))\n",
    "    list2.append(elem)\n",
    "    \n",
    "for i in range(n):\n",
    "    print(list1[i]+\" \"+list2[n-1-i])"
   ]
  },
  {
   "cell_type": "markdown",
   "id": "f1474e46",
   "metadata": {},
   "source": [
    "## Write a Python program to solve a quadratic equation:\n",
    "### x^2-5x+78=0\n",
    "\n",
    "### 5y^2+97=6y\n"
   ]
  },
  {
   "cell_type": "code",
   "execution_count": null,
   "id": "63787316",
   "metadata": {},
   "outputs": [],
   "source": [
    "def quad():\n",
    "    a=float(input(\"Enter a value for a: \"))\n",
    "    b=float(input(\"Enter a value for b: \"))\n",
    "    c=float(input(\"Enter a value for c: \"))\n",
    "    if (a==0):\n",
    "        print(\"Sorry! value of a can't be 0\")\n",
    "    else:\n",
    "        x1= (-b+((b**2)-4*a*c)**0.5)/2*a\n",
    "        x2= (-b-((b**2)-4*a*c)**0.5)/2*a\n",
    "        print(\"X1= \",x1)\n",
    "        print(\"X2= \",x2)\n",
    "quad()"
   ]
  },
  {
   "cell_type": "markdown",
   "id": "f83a0cd8",
   "metadata": {},
   "source": [
    "## Python program to print a sequence of number in reverse order."
   ]
  },
  {
   "cell_type": "code",
   "execution_count": null,
   "id": "45961cd8",
   "metadata": {},
   "outputs": [],
   "source": [
    "num=input(\"enter a number: \")\n",
    "num_int=int(num)\n",
    "rev_num=0\n",
    "for i in range(1,len(num)+1):\n",
    "    fd=num_int%10\n",
    "    rev_num=rev_num*10+fd\n",
    "    num_int //=10\n",
    "rev_num"
   ]
  }
 ],
 "metadata": {
  "kernelspec": {
   "display_name": "Python 3",
   "language": "python",
   "name": "python3"
  },
  "language_info": {
   "codemirror_mode": {
    "name": "ipython",
    "version": 3
   },
   "file_extension": ".py",
   "mimetype": "text/x-python",
   "name": "python",
   "nbconvert_exporter": "python",
   "pygments_lexer": "ipython3",
   "version": "3.8.8"
  }
 },
 "nbformat": 4,
 "nbformat_minor": 5
}
